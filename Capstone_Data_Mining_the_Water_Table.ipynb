{
  "nbformat": 4,
  "nbformat_minor": 0,
  "metadata": {
    "colab": {
      "name": "Capstone: Data Mining the Water Table.ipynb",
      "provenance": [],
      "collapsed_sections": [],
      "toc_visible": true,
      "include_colab_link": true
    },
    "kernelspec": {
      "name": "python3",
      "display_name": "Python 3"
    },
    "language_info": {
      "name": "python"
    }
  },
  "cells": [
    {
      "cell_type": "markdown",
      "metadata": {
        "id": "view-in-github",
        "colab_type": "text"
      },
      "source": [
        "<a href=\"https://colab.research.google.com/github/alexgathuri/Capstone-Data-Mining-the-Water-Table.ipynb/blob/main/Capstone_Data_Mining_the_Water_Table.ipynb\" target=\"_parent\"><img src=\"https://colab.research.google.com/assets/colab-badge.svg\" alt=\"Open In Colab\"/></a>"
      ]
    },
    {
      "cell_type": "markdown",
      "metadata": {
        "id": "4xwDR45sY6Zz"
      },
      "source": [
        "# **Data Mining the Water Table**"
      ]
    },
    {
      "cell_type": "markdown",
      "metadata": {
        "id": "xtnOdbeqclLP"
      },
      "source": [
        "# **1.0 Defining the Question**"
      ]
    },
    {
      "cell_type": "markdown",
      "metadata": {
        "id": "df0zgPpMZBaB"
      },
      "source": [
        "## a) Specifying the Question"
      ]
    },
    {
      "cell_type": "markdown",
      "metadata": {
        "id": "UrgVu1yOcq7S"
      },
      "source": [
        "The main objective of this project is to predict the operating condition of a waterpoint (functional, non-functional and functional needs repair)  for each record in the dataset based on a number of variables about what kind of pump is operating, when it was installed and how it is managed."
      ]
    },
    {
      "cell_type": "markdown",
      "metadata": {
        "id": "VJVJ8nxVZLGj"
      },
      "source": [
        "## b) Defining the metric of success"
      ]
    },
    {
      "cell_type": "markdown",
      "metadata": {
        "id": "d7YREjKhY520"
      },
      "source": [
        "To successfully predict the operating condition of a waterpoint (functional, non-functional and functional needs repair)  for each record in the dataset."
      ]
    },
    {
      "cell_type": "markdown",
      "metadata": {
        "id": "SdPbyb7EZjRy"
      },
      "source": [
        "## c) Understanding the context"
      ]
    },
    {
      "cell_type": "markdown",
      "metadata": {
        "id": "ycvRobwUZwbY"
      },
      "source": [
        "Using data from Taarifa[http://taarifa.org/] and the Tanzanian Ministry of Water[http://maji.go.tz/], can you predict which pumps are functional, which need some repairs, and which don't work at all? Predict one of these three classes based on a number of variables about what kind of pump is operating, when it was installed, and how it is managed. A smart understanding of which waterpoints will fail can improve maintenance operations and ensure that clean, potable water is available to communities."
      ]
    },
    {
      "cell_type": "markdown",
      "metadata": {
        "id": "Lxm8VoyMZypJ"
      },
      "source": [
        "## d) Recording the Experimental Design"
      ]
    },
    {
      "cell_type": "markdown",
      "metadata": {
        "id": "p7160o13Z3mA"
      },
      "source": [
        "* Importing the relevant libraries that we will use in our analysis\n",
        "* Reading and exploring the dataset we will use for our project\n",
        "* Defining the appropriateness of the available data with regards to the project\n",
        "* Finding and dealing with outliers, anomalies, and missing data within the dataset.\n",
        "* Performing univariate and bivariate analysis while recording our observations.\n",
        "* Implementing the solution by using the various classifier algorithms to predict whether a waterpoint is functional,non functional or functional but needs repair based on the information provided.\n",
        "* Challenging the solution by using a model that could outperform the best performing model identified earlier.\n",
        "* Providing conclusions and recommendations based on the analysis  and various modelling techniques used in the project."
      ]
    },
    {
      "cell_type": "markdown",
      "metadata": {
        "id": "wn1h0NyCZ-9b"
      },
      "source": [
        "## e) Data Relevance"
      ]
    },
    {
      "cell_type": "markdown",
      "metadata": {
        "id": "MznO7suCaC8-"
      },
      "source": [
        "* amount_tsh - Total static head (amount water available to waterpoint)\n",
        "* date_recorded - The date the row was entered\n",
        "* funder - Who funded the well\n",
        "* gps_height - Altitude of the well\n",
        "* installer - Organization that installed the well\n",
        "* longitude - GPS coordinate\n",
        "* latitude - GPS coordinate\n",
        "* wpt_name - Name of the waterpoint if there is one\n",
        "* num_private - The number of private wells an aquifer can provide water to.\n",
        "* basin - Geographic water basin\n",
        "* subvillage - Geographic location\n",
        "* region - Geographic location\n",
        "* region_code - Geographic location (coded)\n",
        "* district_code - Geographic location (coded)\n",
        "* lga - Geographic location\n",
        "* ward - Geographic location\n",
        "* population - Population around the well\n",
        "* public_meeting - True/False\n",
        "* recorded_by - Group entering this row of data\n",
        "* scheme_management - Who operates the waterpoint\n",
        "* scheme_name - Who operates the waterpoint\n",
        "* permit - If the waterpoint is permitted\n",
        "* construction_year - Year the waterpoint was constructed\n",
        "* extraction_type - The kind of extraction the waterpoint uses\n",
        "* extraction_type_group - The kind of extraction the waterpoint uses\n",
        "* extraction_type_class - The kind of extraction the waterpoint uses\n",
        "* management - How the waterpoint is managed\n",
        "* management_group - How the waterpoint is managed\n",
        "* payment - What the water costs\n",
        "* payment_type - What the water costs\n",
        "* water_quality - The quality of the water\n",
        "* quality_group - The quality of the water\n",
        "* quantity - The quantity of water\n",
        "* quantity_group - The quantity of water\n",
        "* source - The source of the water\n",
        "* source_type - The source of the water\n",
        "* source_class - The source of the water\n",
        "* waterpoint_type - The kind of waterpoint\n",
        "* waterpoint_type_group - The kind of waterpoint\n",
        " \n",
        "> Labels\n",
        "Distribution of Labels\n",
        "The labels in this dataset are simple. There are three possible values:\n",
        "* functional - the waterpoint is operational and there are no repairs needed\n",
        "* functional needs repair - the waterpoint is operational, but needs repairs\n",
        "* non functional - the waterpoint is not operational\n"
      ]
    },
    {
      "cell_type": "markdown",
      "metadata": {
        "id": "gFfED-U4g0Z6"
      },
      "source": [
        "# **2.0 Importing Libraries**"
      ]
    },
    {
      "cell_type": "code",
      "metadata": {
        "id": "ZOlZA0elcX0Q"
      },
      "source": [
        "import pandas as pd\n",
        "import numpy as np\n",
        "import seaborn as sns\n",
        "import matplotlib.pyplot as plt\n",
        "import warnings\n",
        "warnings.filterwarnings(action='ignore')\n",
        "from sklearn.pipeline import make_pipeline\n",
        "from sklearn.preprocessing import StandardScaler\n",
        "from sklearn.metrics import confusion_matrix, accuracy_score\n",
        "from sklearn.ensemble import RandomForestClassifier\n",
        "from sklearn.metrics import classification_report\n",
        "from sklearn import metrics\n",
        "from sklearn.model_selection import train_test_split\n",
        "\n",
        "from sklearn.preprocessing import StandardScaler\n",
        "from sklearn.metrics import classification_report,confusion_matrix\n",
        "from sklearn.model_selection import GridSearchCV\n",
        "from sklearn.linear_model import LogisticRegression\n",
        "\n",
        "\n",
        "from sklearn.svm import SVC\n",
        "from sklearn.naive_bayes import GaussianNB\n",
        "\n",
        "from xgboost import XGBClassifier"
      ],
      "execution_count": null,
      "outputs": []
    },
    {
      "cell_type": "markdown",
      "metadata": {
        "id": "-nTFq4ErhkaO"
      },
      "source": [
        "# **3.0 Loading the data**"
      ]
    },
    {
      "cell_type": "code",
      "metadata": {
        "id": "PRtHlG_Ehrc-"
      },
      "source": [
        "# importing the train values dataset\n",
        "train = pd.read_csv(\"Training set values.csv\")\n",
        "\n",
        "# importing the train labels\n",
        "labels = pd.read_csv(\"Training set labels.csv\")"
      ],
      "execution_count": null,
      "outputs": []
    },
    {
      "cell_type": "markdown",
      "metadata": {
        "id": "w6TjJ0p71Gze"
      },
      "source": [
        "# **4.0 Checking the dataset**"
      ]
    },
    {
      "cell_type": "markdown",
      "metadata": {
        "id": "2vw_b2yauxuD"
      },
      "source": [
        "**Train dataset**"
      ]
    },
    {
      "cell_type": "code",
      "metadata": {
        "colab": {
          "base_uri": "https://localhost:8080/",
          "height": 415
        },
        "id": "w5dbzc6Hi5Ur",
        "outputId": "09c1708e-0370-4f9a-c574-5cdbe3e521c3"
      },
      "source": [
        "# previewing the first five rows\n",
        "train.head()"
      ],
      "execution_count": null,
      "outputs": [
        {
          "output_type": "execute_result",
          "data": {
            "text/html": [
              "<div>\n",
              "<style scoped>\n",
              "    .dataframe tbody tr th:only-of-type {\n",
              "        vertical-align: middle;\n",
              "    }\n",
              "\n",
              "    .dataframe tbody tr th {\n",
              "        vertical-align: top;\n",
              "    }\n",
              "\n",
              "    .dataframe thead th {\n",
              "        text-align: right;\n",
              "    }\n",
              "</style>\n",
              "<table border=\"1\" class=\"dataframe\">\n",
              "  <thead>\n",
              "    <tr style=\"text-align: right;\">\n",
              "      <th></th>\n",
              "      <th>id</th>\n",
              "      <th>amount_tsh</th>\n",
              "      <th>date_recorded</th>\n",
              "      <th>funder</th>\n",
              "      <th>gps_height</th>\n",
              "      <th>installer</th>\n",
              "      <th>longitude</th>\n",
              "      <th>latitude</th>\n",
              "      <th>wpt_name</th>\n",
              "      <th>num_private</th>\n",
              "      <th>basin</th>\n",
              "      <th>subvillage</th>\n",
              "      <th>region</th>\n",
              "      <th>region_code</th>\n",
              "      <th>district_code</th>\n",
              "      <th>lga</th>\n",
              "      <th>ward</th>\n",
              "      <th>population</th>\n",
              "      <th>public_meeting</th>\n",
              "      <th>recorded_by</th>\n",
              "      <th>scheme_management</th>\n",
              "      <th>scheme_name</th>\n",
              "      <th>permit</th>\n",
              "      <th>construction_year</th>\n",
              "      <th>extraction_type</th>\n",
              "      <th>extraction_type_group</th>\n",
              "      <th>extraction_type_class</th>\n",
              "      <th>management</th>\n",
              "      <th>management_group</th>\n",
              "      <th>payment</th>\n",
              "      <th>payment_type</th>\n",
              "      <th>water_quality</th>\n",
              "      <th>quality_group</th>\n",
              "      <th>quantity</th>\n",
              "      <th>quantity_group</th>\n",
              "      <th>source</th>\n",
              "      <th>source_type</th>\n",
              "      <th>source_class</th>\n",
              "      <th>waterpoint_type</th>\n",
              "      <th>waterpoint_type_group</th>\n",
              "    </tr>\n",
              "  </thead>\n",
              "  <tbody>\n",
              "    <tr>\n",
              "      <th>0</th>\n",
              "      <td>69572</td>\n",
              "      <td>6000.0</td>\n",
              "      <td>2011-03-14</td>\n",
              "      <td>Roman</td>\n",
              "      <td>1390</td>\n",
              "      <td>Roman</td>\n",
              "      <td>34.938093</td>\n",
              "      <td>-9.856322</td>\n",
              "      <td>none</td>\n",
              "      <td>0</td>\n",
              "      <td>Lake Nyasa</td>\n",
              "      <td>Mnyusi B</td>\n",
              "      <td>Iringa</td>\n",
              "      <td>11</td>\n",
              "      <td>5</td>\n",
              "      <td>Ludewa</td>\n",
              "      <td>Mundindi</td>\n",
              "      <td>109</td>\n",
              "      <td>True</td>\n",
              "      <td>GeoData Consultants Ltd</td>\n",
              "      <td>VWC</td>\n",
              "      <td>Roman</td>\n",
              "      <td>False</td>\n",
              "      <td>1999</td>\n",
              "      <td>gravity</td>\n",
              "      <td>gravity</td>\n",
              "      <td>gravity</td>\n",
              "      <td>vwc</td>\n",
              "      <td>user-group</td>\n",
              "      <td>pay annually</td>\n",
              "      <td>annually</td>\n",
              "      <td>soft</td>\n",
              "      <td>good</td>\n",
              "      <td>enough</td>\n",
              "      <td>enough</td>\n",
              "      <td>spring</td>\n",
              "      <td>spring</td>\n",
              "      <td>groundwater</td>\n",
              "      <td>communal standpipe</td>\n",
              "      <td>communal standpipe</td>\n",
              "    </tr>\n",
              "    <tr>\n",
              "      <th>1</th>\n",
              "      <td>8776</td>\n",
              "      <td>0.0</td>\n",
              "      <td>2013-03-06</td>\n",
              "      <td>Grumeti</td>\n",
              "      <td>1399</td>\n",
              "      <td>GRUMETI</td>\n",
              "      <td>34.698766</td>\n",
              "      <td>-2.147466</td>\n",
              "      <td>Zahanati</td>\n",
              "      <td>0</td>\n",
              "      <td>Lake Victoria</td>\n",
              "      <td>Nyamara</td>\n",
              "      <td>Mara</td>\n",
              "      <td>20</td>\n",
              "      <td>2</td>\n",
              "      <td>Serengeti</td>\n",
              "      <td>Natta</td>\n",
              "      <td>280</td>\n",
              "      <td>NaN</td>\n",
              "      <td>GeoData Consultants Ltd</td>\n",
              "      <td>Other</td>\n",
              "      <td>NaN</td>\n",
              "      <td>True</td>\n",
              "      <td>2010</td>\n",
              "      <td>gravity</td>\n",
              "      <td>gravity</td>\n",
              "      <td>gravity</td>\n",
              "      <td>wug</td>\n",
              "      <td>user-group</td>\n",
              "      <td>never pay</td>\n",
              "      <td>never pay</td>\n",
              "      <td>soft</td>\n",
              "      <td>good</td>\n",
              "      <td>insufficient</td>\n",
              "      <td>insufficient</td>\n",
              "      <td>rainwater harvesting</td>\n",
              "      <td>rainwater harvesting</td>\n",
              "      <td>surface</td>\n",
              "      <td>communal standpipe</td>\n",
              "      <td>communal standpipe</td>\n",
              "    </tr>\n",
              "    <tr>\n",
              "      <th>2</th>\n",
              "      <td>34310</td>\n",
              "      <td>25.0</td>\n",
              "      <td>2013-02-25</td>\n",
              "      <td>Lottery Club</td>\n",
              "      <td>686</td>\n",
              "      <td>World vision</td>\n",
              "      <td>37.460664</td>\n",
              "      <td>-3.821329</td>\n",
              "      <td>Kwa Mahundi</td>\n",
              "      <td>0</td>\n",
              "      <td>Pangani</td>\n",
              "      <td>Majengo</td>\n",
              "      <td>Manyara</td>\n",
              "      <td>21</td>\n",
              "      <td>4</td>\n",
              "      <td>Simanjiro</td>\n",
              "      <td>Ngorika</td>\n",
              "      <td>250</td>\n",
              "      <td>True</td>\n",
              "      <td>GeoData Consultants Ltd</td>\n",
              "      <td>VWC</td>\n",
              "      <td>Nyumba ya mungu pipe scheme</td>\n",
              "      <td>True</td>\n",
              "      <td>2009</td>\n",
              "      <td>gravity</td>\n",
              "      <td>gravity</td>\n",
              "      <td>gravity</td>\n",
              "      <td>vwc</td>\n",
              "      <td>user-group</td>\n",
              "      <td>pay per bucket</td>\n",
              "      <td>per bucket</td>\n",
              "      <td>soft</td>\n",
              "      <td>good</td>\n",
              "      <td>enough</td>\n",
              "      <td>enough</td>\n",
              "      <td>dam</td>\n",
              "      <td>dam</td>\n",
              "      <td>surface</td>\n",
              "      <td>communal standpipe multiple</td>\n",
              "      <td>communal standpipe</td>\n",
              "    </tr>\n",
              "    <tr>\n",
              "      <th>3</th>\n",
              "      <td>67743</td>\n",
              "      <td>0.0</td>\n",
              "      <td>2013-01-28</td>\n",
              "      <td>Unicef</td>\n",
              "      <td>263</td>\n",
              "      <td>UNICEF</td>\n",
              "      <td>38.486161</td>\n",
              "      <td>-11.155298</td>\n",
              "      <td>Zahanati Ya Nanyumbu</td>\n",
              "      <td>0</td>\n",
              "      <td>Ruvuma / Southern Coast</td>\n",
              "      <td>Mahakamani</td>\n",
              "      <td>Mtwara</td>\n",
              "      <td>90</td>\n",
              "      <td>63</td>\n",
              "      <td>Nanyumbu</td>\n",
              "      <td>Nanyumbu</td>\n",
              "      <td>58</td>\n",
              "      <td>True</td>\n",
              "      <td>GeoData Consultants Ltd</td>\n",
              "      <td>VWC</td>\n",
              "      <td>NaN</td>\n",
              "      <td>True</td>\n",
              "      <td>1986</td>\n",
              "      <td>submersible</td>\n",
              "      <td>submersible</td>\n",
              "      <td>submersible</td>\n",
              "      <td>vwc</td>\n",
              "      <td>user-group</td>\n",
              "      <td>never pay</td>\n",
              "      <td>never pay</td>\n",
              "      <td>soft</td>\n",
              "      <td>good</td>\n",
              "      <td>dry</td>\n",
              "      <td>dry</td>\n",
              "      <td>machine dbh</td>\n",
              "      <td>borehole</td>\n",
              "      <td>groundwater</td>\n",
              "      <td>communal standpipe multiple</td>\n",
              "      <td>communal standpipe</td>\n",
              "    </tr>\n",
              "    <tr>\n",
              "      <th>4</th>\n",
              "      <td>19728</td>\n",
              "      <td>0.0</td>\n",
              "      <td>2011-07-13</td>\n",
              "      <td>Action In A</td>\n",
              "      <td>0</td>\n",
              "      <td>Artisan</td>\n",
              "      <td>31.130847</td>\n",
              "      <td>-1.825359</td>\n",
              "      <td>Shuleni</td>\n",
              "      <td>0</td>\n",
              "      <td>Lake Victoria</td>\n",
              "      <td>Kyanyamisa</td>\n",
              "      <td>Kagera</td>\n",
              "      <td>18</td>\n",
              "      <td>1</td>\n",
              "      <td>Karagwe</td>\n",
              "      <td>Nyakasimbi</td>\n",
              "      <td>0</td>\n",
              "      <td>True</td>\n",
              "      <td>GeoData Consultants Ltd</td>\n",
              "      <td>NaN</td>\n",
              "      <td>NaN</td>\n",
              "      <td>True</td>\n",
              "      <td>0</td>\n",
              "      <td>gravity</td>\n",
              "      <td>gravity</td>\n",
              "      <td>gravity</td>\n",
              "      <td>other</td>\n",
              "      <td>other</td>\n",
              "      <td>never pay</td>\n",
              "      <td>never pay</td>\n",
              "      <td>soft</td>\n",
              "      <td>good</td>\n",
              "      <td>seasonal</td>\n",
              "      <td>seasonal</td>\n",
              "      <td>rainwater harvesting</td>\n",
              "      <td>rainwater harvesting</td>\n",
              "      <td>surface</td>\n",
              "      <td>communal standpipe</td>\n",
              "      <td>communal standpipe</td>\n",
              "    </tr>\n",
              "  </tbody>\n",
              "</table>\n",
              "</div>"
            ],
            "text/plain": [
              "      id  amount_tsh  ...              waterpoint_type waterpoint_type_group\n",
              "0  69572      6000.0  ...           communal standpipe    communal standpipe\n",
              "1   8776         0.0  ...           communal standpipe    communal standpipe\n",
              "2  34310        25.0  ...  communal standpipe multiple    communal standpipe\n",
              "3  67743         0.0  ...  communal standpipe multiple    communal standpipe\n",
              "4  19728         0.0  ...           communal standpipe    communal standpipe\n",
              "\n",
              "[5 rows x 40 columns]"
            ]
          },
          "metadata": {
            "tags": []
          },
          "execution_count": 139
        }
      ]
    },
    {
      "cell_type": "code",
      "metadata": {
        "colab": {
          "base_uri": "https://localhost:8080/",
          "height": 433
        },
        "id": "OXbkzK-WjOeW",
        "outputId": "b04af0b2-7300-4f7b-b1da-94431194cdac"
      },
      "source": [
        "# previewing the last five rows\n",
        "train.tail()"
      ],
      "execution_count": null,
      "outputs": [
        {
          "output_type": "execute_result",
          "data": {
            "text/html": [
              "<div>\n",
              "<style scoped>\n",
              "    .dataframe tbody tr th:only-of-type {\n",
              "        vertical-align: middle;\n",
              "    }\n",
              "\n",
              "    .dataframe tbody tr th {\n",
              "        vertical-align: top;\n",
              "    }\n",
              "\n",
              "    .dataframe thead th {\n",
              "        text-align: right;\n",
              "    }\n",
              "</style>\n",
              "<table border=\"1\" class=\"dataframe\">\n",
              "  <thead>\n",
              "    <tr style=\"text-align: right;\">\n",
              "      <th></th>\n",
              "      <th>id</th>\n",
              "      <th>amount_tsh</th>\n",
              "      <th>date_recorded</th>\n",
              "      <th>funder</th>\n",
              "      <th>gps_height</th>\n",
              "      <th>installer</th>\n",
              "      <th>longitude</th>\n",
              "      <th>latitude</th>\n",
              "      <th>wpt_name</th>\n",
              "      <th>num_private</th>\n",
              "      <th>basin</th>\n",
              "      <th>subvillage</th>\n",
              "      <th>region</th>\n",
              "      <th>region_code</th>\n",
              "      <th>district_code</th>\n",
              "      <th>lga</th>\n",
              "      <th>ward</th>\n",
              "      <th>population</th>\n",
              "      <th>public_meeting</th>\n",
              "      <th>recorded_by</th>\n",
              "      <th>scheme_management</th>\n",
              "      <th>scheme_name</th>\n",
              "      <th>permit</th>\n",
              "      <th>construction_year</th>\n",
              "      <th>extraction_type</th>\n",
              "      <th>extraction_type_group</th>\n",
              "      <th>extraction_type_class</th>\n",
              "      <th>management</th>\n",
              "      <th>management_group</th>\n",
              "      <th>payment</th>\n",
              "      <th>payment_type</th>\n",
              "      <th>water_quality</th>\n",
              "      <th>quality_group</th>\n",
              "      <th>quantity</th>\n",
              "      <th>quantity_group</th>\n",
              "      <th>source</th>\n",
              "      <th>source_type</th>\n",
              "      <th>source_class</th>\n",
              "      <th>waterpoint_type</th>\n",
              "      <th>waterpoint_type_group</th>\n",
              "    </tr>\n",
              "  </thead>\n",
              "  <tbody>\n",
              "    <tr>\n",
              "      <th>59395</th>\n",
              "      <td>60739</td>\n",
              "      <td>10.0</td>\n",
              "      <td>2013-05-03</td>\n",
              "      <td>Germany Republi</td>\n",
              "      <td>1210</td>\n",
              "      <td>CES</td>\n",
              "      <td>37.169807</td>\n",
              "      <td>-3.253847</td>\n",
              "      <td>Area Three Namba 27</td>\n",
              "      <td>0</td>\n",
              "      <td>Pangani</td>\n",
              "      <td>Kiduruni</td>\n",
              "      <td>Kilimanjaro</td>\n",
              "      <td>3</td>\n",
              "      <td>5</td>\n",
              "      <td>Hai</td>\n",
              "      <td>Masama Magharibi</td>\n",
              "      <td>125</td>\n",
              "      <td>True</td>\n",
              "      <td>GeoData Consultants Ltd</td>\n",
              "      <td>Water Board</td>\n",
              "      <td>Losaa Kia water supply</td>\n",
              "      <td>True</td>\n",
              "      <td>1999</td>\n",
              "      <td>gravity</td>\n",
              "      <td>gravity</td>\n",
              "      <td>gravity</td>\n",
              "      <td>water board</td>\n",
              "      <td>user-group</td>\n",
              "      <td>pay per bucket</td>\n",
              "      <td>per bucket</td>\n",
              "      <td>soft</td>\n",
              "      <td>good</td>\n",
              "      <td>enough</td>\n",
              "      <td>enough</td>\n",
              "      <td>spring</td>\n",
              "      <td>spring</td>\n",
              "      <td>groundwater</td>\n",
              "      <td>communal standpipe</td>\n",
              "      <td>communal standpipe</td>\n",
              "    </tr>\n",
              "    <tr>\n",
              "      <th>59396</th>\n",
              "      <td>27263</td>\n",
              "      <td>4700.0</td>\n",
              "      <td>2011-05-07</td>\n",
              "      <td>Cefa-njombe</td>\n",
              "      <td>1212</td>\n",
              "      <td>Cefa</td>\n",
              "      <td>35.249991</td>\n",
              "      <td>-9.070629</td>\n",
              "      <td>Kwa Yahona Kuvala</td>\n",
              "      <td>0</td>\n",
              "      <td>Rufiji</td>\n",
              "      <td>Igumbilo</td>\n",
              "      <td>Iringa</td>\n",
              "      <td>11</td>\n",
              "      <td>4</td>\n",
              "      <td>Njombe</td>\n",
              "      <td>Ikondo</td>\n",
              "      <td>56</td>\n",
              "      <td>True</td>\n",
              "      <td>GeoData Consultants Ltd</td>\n",
              "      <td>VWC</td>\n",
              "      <td>Ikondo electrical water sch</td>\n",
              "      <td>True</td>\n",
              "      <td>1996</td>\n",
              "      <td>gravity</td>\n",
              "      <td>gravity</td>\n",
              "      <td>gravity</td>\n",
              "      <td>vwc</td>\n",
              "      <td>user-group</td>\n",
              "      <td>pay annually</td>\n",
              "      <td>annually</td>\n",
              "      <td>soft</td>\n",
              "      <td>good</td>\n",
              "      <td>enough</td>\n",
              "      <td>enough</td>\n",
              "      <td>river</td>\n",
              "      <td>river/lake</td>\n",
              "      <td>surface</td>\n",
              "      <td>communal standpipe</td>\n",
              "      <td>communal standpipe</td>\n",
              "    </tr>\n",
              "    <tr>\n",
              "      <th>59397</th>\n",
              "      <td>37057</td>\n",
              "      <td>0.0</td>\n",
              "      <td>2011-04-11</td>\n",
              "      <td>NaN</td>\n",
              "      <td>0</td>\n",
              "      <td>NaN</td>\n",
              "      <td>34.017087</td>\n",
              "      <td>-8.750434</td>\n",
              "      <td>Mashine</td>\n",
              "      <td>0</td>\n",
              "      <td>Rufiji</td>\n",
              "      <td>Madungulu</td>\n",
              "      <td>Mbeya</td>\n",
              "      <td>12</td>\n",
              "      <td>7</td>\n",
              "      <td>Mbarali</td>\n",
              "      <td>Chimala</td>\n",
              "      <td>0</td>\n",
              "      <td>True</td>\n",
              "      <td>GeoData Consultants Ltd</td>\n",
              "      <td>VWC</td>\n",
              "      <td>NaN</td>\n",
              "      <td>False</td>\n",
              "      <td>0</td>\n",
              "      <td>swn 80</td>\n",
              "      <td>swn 80</td>\n",
              "      <td>handpump</td>\n",
              "      <td>vwc</td>\n",
              "      <td>user-group</td>\n",
              "      <td>pay monthly</td>\n",
              "      <td>monthly</td>\n",
              "      <td>fluoride</td>\n",
              "      <td>fluoride</td>\n",
              "      <td>enough</td>\n",
              "      <td>enough</td>\n",
              "      <td>machine dbh</td>\n",
              "      <td>borehole</td>\n",
              "      <td>groundwater</td>\n",
              "      <td>hand pump</td>\n",
              "      <td>hand pump</td>\n",
              "    </tr>\n",
              "    <tr>\n",
              "      <th>59398</th>\n",
              "      <td>31282</td>\n",
              "      <td>0.0</td>\n",
              "      <td>2011-03-08</td>\n",
              "      <td>Malec</td>\n",
              "      <td>0</td>\n",
              "      <td>Musa</td>\n",
              "      <td>35.861315</td>\n",
              "      <td>-6.378573</td>\n",
              "      <td>Mshoro</td>\n",
              "      <td>0</td>\n",
              "      <td>Rufiji</td>\n",
              "      <td>Mwinyi</td>\n",
              "      <td>Dodoma</td>\n",
              "      <td>1</td>\n",
              "      <td>4</td>\n",
              "      <td>Chamwino</td>\n",
              "      <td>Mvumi Makulu</td>\n",
              "      <td>0</td>\n",
              "      <td>True</td>\n",
              "      <td>GeoData Consultants Ltd</td>\n",
              "      <td>VWC</td>\n",
              "      <td>NaN</td>\n",
              "      <td>True</td>\n",
              "      <td>0</td>\n",
              "      <td>nira/tanira</td>\n",
              "      <td>nira/tanira</td>\n",
              "      <td>handpump</td>\n",
              "      <td>vwc</td>\n",
              "      <td>user-group</td>\n",
              "      <td>never pay</td>\n",
              "      <td>never pay</td>\n",
              "      <td>soft</td>\n",
              "      <td>good</td>\n",
              "      <td>insufficient</td>\n",
              "      <td>insufficient</td>\n",
              "      <td>shallow well</td>\n",
              "      <td>shallow well</td>\n",
              "      <td>groundwater</td>\n",
              "      <td>hand pump</td>\n",
              "      <td>hand pump</td>\n",
              "    </tr>\n",
              "    <tr>\n",
              "      <th>59399</th>\n",
              "      <td>26348</td>\n",
              "      <td>0.0</td>\n",
              "      <td>2011-03-23</td>\n",
              "      <td>World Bank</td>\n",
              "      <td>191</td>\n",
              "      <td>World</td>\n",
              "      <td>38.104048</td>\n",
              "      <td>-6.747464</td>\n",
              "      <td>Kwa Mzee Lugawa</td>\n",
              "      <td>0</td>\n",
              "      <td>Wami / Ruvu</td>\n",
              "      <td>Kikatanyemba</td>\n",
              "      <td>Morogoro</td>\n",
              "      <td>5</td>\n",
              "      <td>2</td>\n",
              "      <td>Morogoro Rural</td>\n",
              "      <td>Ngerengere</td>\n",
              "      <td>150</td>\n",
              "      <td>True</td>\n",
              "      <td>GeoData Consultants Ltd</td>\n",
              "      <td>VWC</td>\n",
              "      <td>NaN</td>\n",
              "      <td>True</td>\n",
              "      <td>2002</td>\n",
              "      <td>nira/tanira</td>\n",
              "      <td>nira/tanira</td>\n",
              "      <td>handpump</td>\n",
              "      <td>vwc</td>\n",
              "      <td>user-group</td>\n",
              "      <td>pay when scheme fails</td>\n",
              "      <td>on failure</td>\n",
              "      <td>salty</td>\n",
              "      <td>salty</td>\n",
              "      <td>enough</td>\n",
              "      <td>enough</td>\n",
              "      <td>shallow well</td>\n",
              "      <td>shallow well</td>\n",
              "      <td>groundwater</td>\n",
              "      <td>hand pump</td>\n",
              "      <td>hand pump</td>\n",
              "    </tr>\n",
              "  </tbody>\n",
              "</table>\n",
              "</div>"
            ],
            "text/plain": [
              "          id  amount_tsh  ...     waterpoint_type waterpoint_type_group\n",
              "59395  60739        10.0  ...  communal standpipe    communal standpipe\n",
              "59396  27263      4700.0  ...  communal standpipe    communal standpipe\n",
              "59397  37057         0.0  ...           hand pump             hand pump\n",
              "59398  31282         0.0  ...           hand pump             hand pump\n",
              "59399  26348         0.0  ...           hand pump             hand pump\n",
              "\n",
              "[5 rows x 40 columns]"
            ]
          },
          "metadata": {
            "tags": []
          },
          "execution_count": 140
        }
      ]
    },
    {
      "cell_type": "markdown",
      "metadata": {
        "id": "TYCGJ-jtkvq8"
      },
      "source": [
        "**Train labels dataset**"
      ]
    },
    {
      "cell_type": "code",
      "metadata": {
        "colab": {
          "base_uri": "https://localhost:8080/",
          "height": 205
        },
        "id": "u0SEOd7CjWMo",
        "outputId": "ed91b29d-ba98-445e-9a36-aa16ac22c8be"
      },
      "source": [
        "# previewing the first five rows \n",
        "labels.head()"
      ],
      "execution_count": null,
      "outputs": [
        {
          "output_type": "execute_result",
          "data": {
            "text/html": [
              "<div>\n",
              "<style scoped>\n",
              "    .dataframe tbody tr th:only-of-type {\n",
              "        vertical-align: middle;\n",
              "    }\n",
              "\n",
              "    .dataframe tbody tr th {\n",
              "        vertical-align: top;\n",
              "    }\n",
              "\n",
              "    .dataframe thead th {\n",
              "        text-align: right;\n",
              "    }\n",
              "</style>\n",
              "<table border=\"1\" class=\"dataframe\">\n",
              "  <thead>\n",
              "    <tr style=\"text-align: right;\">\n",
              "      <th></th>\n",
              "      <th>id</th>\n",
              "      <th>status_group</th>\n",
              "    </tr>\n",
              "  </thead>\n",
              "  <tbody>\n",
              "    <tr>\n",
              "      <th>0</th>\n",
              "      <td>69572</td>\n",
              "      <td>functional</td>\n",
              "    </tr>\n",
              "    <tr>\n",
              "      <th>1</th>\n",
              "      <td>8776</td>\n",
              "      <td>functional</td>\n",
              "    </tr>\n",
              "    <tr>\n",
              "      <th>2</th>\n",
              "      <td>34310</td>\n",
              "      <td>functional</td>\n",
              "    </tr>\n",
              "    <tr>\n",
              "      <th>3</th>\n",
              "      <td>67743</td>\n",
              "      <td>non functional</td>\n",
              "    </tr>\n",
              "    <tr>\n",
              "      <th>4</th>\n",
              "      <td>19728</td>\n",
              "      <td>functional</td>\n",
              "    </tr>\n",
              "  </tbody>\n",
              "</table>\n",
              "</div>"
            ],
            "text/plain": [
              "      id    status_group\n",
              "0  69572      functional\n",
              "1   8776      functional\n",
              "2  34310      functional\n",
              "3  67743  non functional\n",
              "4  19728      functional"
            ]
          },
          "metadata": {
            "tags": []
          },
          "execution_count": 141
        }
      ]
    },
    {
      "cell_type": "code",
      "metadata": {
        "colab": {
          "base_uri": "https://localhost:8080/",
          "height": 205
        },
        "id": "1fRtS5QdjhfI",
        "outputId": "5ed7e15d-5ffe-4c4f-95f6-eddba68214aa"
      },
      "source": [
        "# previewing the last five rows\n",
        "labels.tail()"
      ],
      "execution_count": null,
      "outputs": [
        {
          "output_type": "execute_result",
          "data": {
            "text/html": [
              "<div>\n",
              "<style scoped>\n",
              "    .dataframe tbody tr th:only-of-type {\n",
              "        vertical-align: middle;\n",
              "    }\n",
              "\n",
              "    .dataframe tbody tr th {\n",
              "        vertical-align: top;\n",
              "    }\n",
              "\n",
              "    .dataframe thead th {\n",
              "        text-align: right;\n",
              "    }\n",
              "</style>\n",
              "<table border=\"1\" class=\"dataframe\">\n",
              "  <thead>\n",
              "    <tr style=\"text-align: right;\">\n",
              "      <th></th>\n",
              "      <th>id</th>\n",
              "      <th>status_group</th>\n",
              "    </tr>\n",
              "  </thead>\n",
              "  <tbody>\n",
              "    <tr>\n",
              "      <th>59395</th>\n",
              "      <td>60739</td>\n",
              "      <td>functional</td>\n",
              "    </tr>\n",
              "    <tr>\n",
              "      <th>59396</th>\n",
              "      <td>27263</td>\n",
              "      <td>functional</td>\n",
              "    </tr>\n",
              "    <tr>\n",
              "      <th>59397</th>\n",
              "      <td>37057</td>\n",
              "      <td>functional</td>\n",
              "    </tr>\n",
              "    <tr>\n",
              "      <th>59398</th>\n",
              "      <td>31282</td>\n",
              "      <td>functional</td>\n",
              "    </tr>\n",
              "    <tr>\n",
              "      <th>59399</th>\n",
              "      <td>26348</td>\n",
              "      <td>functional</td>\n",
              "    </tr>\n",
              "  </tbody>\n",
              "</table>\n",
              "</div>"
            ],
            "text/plain": [
              "          id status_group\n",
              "59395  60739   functional\n",
              "59396  27263   functional\n",
              "59397  37057   functional\n",
              "59398  31282   functional\n",
              "59399  26348   functional"
            ]
          },
          "metadata": {
            "tags": []
          },
          "execution_count": 142
        }
      ]
    },
    {
      "cell_type": "markdown",
      "metadata": {
        "id": "fJ900oZ0lJ4d"
      },
      "source": [
        "**Creating a new dataset by merging the train and labels dataset**"
      ]
    },
    {
      "cell_type": "code",
      "metadata": {
        "colab": {
          "base_uri": "https://localhost:8080/",
          "height": 201
        },
        "id": "OB8bQv9njqVY",
        "outputId": "c6765d0f-276c-4f47-b21d-4fea8e75a853"
      },
      "source": [
        "# merge the train values with the train labels\n",
        "train_final = train.merge(labels , on='id')\n",
        "train_final.head(2)"
      ],
      "execution_count": null,
      "outputs": [
        {
          "output_type": "execute_result",
          "data": {
            "text/html": [
              "<div>\n",
              "<style scoped>\n",
              "    .dataframe tbody tr th:only-of-type {\n",
              "        vertical-align: middle;\n",
              "    }\n",
              "\n",
              "    .dataframe tbody tr th {\n",
              "        vertical-align: top;\n",
              "    }\n",
              "\n",
              "    .dataframe thead th {\n",
              "        text-align: right;\n",
              "    }\n",
              "</style>\n",
              "<table border=\"1\" class=\"dataframe\">\n",
              "  <thead>\n",
              "    <tr style=\"text-align: right;\">\n",
              "      <th></th>\n",
              "      <th>id</th>\n",
              "      <th>amount_tsh</th>\n",
              "      <th>date_recorded</th>\n",
              "      <th>funder</th>\n",
              "      <th>gps_height</th>\n",
              "      <th>installer</th>\n",
              "      <th>longitude</th>\n",
              "      <th>latitude</th>\n",
              "      <th>wpt_name</th>\n",
              "      <th>num_private</th>\n",
              "      <th>basin</th>\n",
              "      <th>subvillage</th>\n",
              "      <th>region</th>\n",
              "      <th>region_code</th>\n",
              "      <th>district_code</th>\n",
              "      <th>lga</th>\n",
              "      <th>ward</th>\n",
              "      <th>population</th>\n",
              "      <th>public_meeting</th>\n",
              "      <th>recorded_by</th>\n",
              "      <th>scheme_management</th>\n",
              "      <th>scheme_name</th>\n",
              "      <th>permit</th>\n",
              "      <th>construction_year</th>\n",
              "      <th>extraction_type</th>\n",
              "      <th>extraction_type_group</th>\n",
              "      <th>extraction_type_class</th>\n",
              "      <th>management</th>\n",
              "      <th>management_group</th>\n",
              "      <th>payment</th>\n",
              "      <th>payment_type</th>\n",
              "      <th>water_quality</th>\n",
              "      <th>quality_group</th>\n",
              "      <th>quantity</th>\n",
              "      <th>quantity_group</th>\n",
              "      <th>source</th>\n",
              "      <th>source_type</th>\n",
              "      <th>source_class</th>\n",
              "      <th>waterpoint_type</th>\n",
              "      <th>waterpoint_type_group</th>\n",
              "      <th>status_group</th>\n",
              "    </tr>\n",
              "  </thead>\n",
              "  <tbody>\n",
              "    <tr>\n",
              "      <th>0</th>\n",
              "      <td>69572</td>\n",
              "      <td>6000.0</td>\n",
              "      <td>2011-03-14</td>\n",
              "      <td>Roman</td>\n",
              "      <td>1390</td>\n",
              "      <td>Roman</td>\n",
              "      <td>34.938093</td>\n",
              "      <td>-9.856322</td>\n",
              "      <td>none</td>\n",
              "      <td>0</td>\n",
              "      <td>Lake Nyasa</td>\n",
              "      <td>Mnyusi B</td>\n",
              "      <td>Iringa</td>\n",
              "      <td>11</td>\n",
              "      <td>5</td>\n",
              "      <td>Ludewa</td>\n",
              "      <td>Mundindi</td>\n",
              "      <td>109</td>\n",
              "      <td>True</td>\n",
              "      <td>GeoData Consultants Ltd</td>\n",
              "      <td>VWC</td>\n",
              "      <td>Roman</td>\n",
              "      <td>False</td>\n",
              "      <td>1999</td>\n",
              "      <td>gravity</td>\n",
              "      <td>gravity</td>\n",
              "      <td>gravity</td>\n",
              "      <td>vwc</td>\n",
              "      <td>user-group</td>\n",
              "      <td>pay annually</td>\n",
              "      <td>annually</td>\n",
              "      <td>soft</td>\n",
              "      <td>good</td>\n",
              "      <td>enough</td>\n",
              "      <td>enough</td>\n",
              "      <td>spring</td>\n",
              "      <td>spring</td>\n",
              "      <td>groundwater</td>\n",
              "      <td>communal standpipe</td>\n",
              "      <td>communal standpipe</td>\n",
              "      <td>functional</td>\n",
              "    </tr>\n",
              "    <tr>\n",
              "      <th>1</th>\n",
              "      <td>8776</td>\n",
              "      <td>0.0</td>\n",
              "      <td>2013-03-06</td>\n",
              "      <td>Grumeti</td>\n",
              "      <td>1399</td>\n",
              "      <td>GRUMETI</td>\n",
              "      <td>34.698766</td>\n",
              "      <td>-2.147466</td>\n",
              "      <td>Zahanati</td>\n",
              "      <td>0</td>\n",
              "      <td>Lake Victoria</td>\n",
              "      <td>Nyamara</td>\n",
              "      <td>Mara</td>\n",
              "      <td>20</td>\n",
              "      <td>2</td>\n",
              "      <td>Serengeti</td>\n",
              "      <td>Natta</td>\n",
              "      <td>280</td>\n",
              "      <td>NaN</td>\n",
              "      <td>GeoData Consultants Ltd</td>\n",
              "      <td>Other</td>\n",
              "      <td>NaN</td>\n",
              "      <td>True</td>\n",
              "      <td>2010</td>\n",
              "      <td>gravity</td>\n",
              "      <td>gravity</td>\n",
              "      <td>gravity</td>\n",
              "      <td>wug</td>\n",
              "      <td>user-group</td>\n",
              "      <td>never pay</td>\n",
              "      <td>never pay</td>\n",
              "      <td>soft</td>\n",
              "      <td>good</td>\n",
              "      <td>insufficient</td>\n",
              "      <td>insufficient</td>\n",
              "      <td>rainwater harvesting</td>\n",
              "      <td>rainwater harvesting</td>\n",
              "      <td>surface</td>\n",
              "      <td>communal standpipe</td>\n",
              "      <td>communal standpipe</td>\n",
              "      <td>functional</td>\n",
              "    </tr>\n",
              "  </tbody>\n",
              "</table>\n",
              "</div>"
            ],
            "text/plain": [
              "      id  amount_tsh  ... waterpoint_type_group status_group\n",
              "0  69572      6000.0  ...    communal standpipe   functional\n",
              "1   8776         0.0  ...    communal standpipe   functional\n",
              "\n",
              "[2 rows x 41 columns]"
            ]
          },
          "metadata": {
            "tags": []
          },
          "execution_count": 143
        }
      ]
    },
    {
      "cell_type": "code",
      "metadata": {
        "colab": {
          "base_uri": "https://localhost:8080/",
          "height": 205
        },
        "id": "gI0ZbnDK0o_I",
        "outputId": "f2e94cd7-5580-49e8-d9a4-e30f0a42b593"
      },
      "source": [
        "df = train_final[['date_recorded','construction_year']]\n",
        "df.head()"
      ],
      "execution_count": null,
      "outputs": [
        {
          "output_type": "execute_result",
          "data": {
            "text/html": [
              "<div>\n",
              "<style scoped>\n",
              "    .dataframe tbody tr th:only-of-type {\n",
              "        vertical-align: middle;\n",
              "    }\n",
              "\n",
              "    .dataframe tbody tr th {\n",
              "        vertical-align: top;\n",
              "    }\n",
              "\n",
              "    .dataframe thead th {\n",
              "        text-align: right;\n",
              "    }\n",
              "</style>\n",
              "<table border=\"1\" class=\"dataframe\">\n",
              "  <thead>\n",
              "    <tr style=\"text-align: right;\">\n",
              "      <th></th>\n",
              "      <th>date_recorded</th>\n",
              "      <th>construction_year</th>\n",
              "    </tr>\n",
              "  </thead>\n",
              "  <tbody>\n",
              "    <tr>\n",
              "      <th>0</th>\n",
              "      <td>2011-03-14</td>\n",
              "      <td>1999</td>\n",
              "    </tr>\n",
              "    <tr>\n",
              "      <th>1</th>\n",
              "      <td>2013-03-06</td>\n",
              "      <td>2010</td>\n",
              "    </tr>\n",
              "    <tr>\n",
              "      <th>2</th>\n",
              "      <td>2013-02-25</td>\n",
              "      <td>2009</td>\n",
              "    </tr>\n",
              "    <tr>\n",
              "      <th>3</th>\n",
              "      <td>2013-01-28</td>\n",
              "      <td>1986</td>\n",
              "    </tr>\n",
              "    <tr>\n",
              "      <th>4</th>\n",
              "      <td>2011-07-13</td>\n",
              "      <td>0</td>\n",
              "    </tr>\n",
              "  </tbody>\n",
              "</table>\n",
              "</div>"
            ],
            "text/plain": [
              "  date_recorded  construction_year\n",
              "0    2011-03-14               1999\n",
              "1    2013-03-06               2010\n",
              "2    2013-02-25               2009\n",
              "3    2013-01-28               1986\n",
              "4    2011-07-13                  0"
            ]
          },
          "metadata": {
            "tags": []
          },
          "execution_count": 144
        }
      ]
    },
    {
      "cell_type": "code",
      "metadata": {
        "colab": {
          "base_uri": "https://localhost:8080/"
        },
        "id": "0YA_29jC2OIN",
        "outputId": "66f1b8fa-df13-49d4-d1fe-28aaba6873c0"
      },
      "source": [
        "\n",
        "df1 = df[df['construction_year'] == 0]\n",
        "df1['date_recorded'].mode().sum()\n",
        "df1[df1['date_recorded'] == '2011-07-30'].sum()"
      ],
      "execution_count": null,
      "outputs": [
        {
          "output_type": "execute_result",
          "data": {
            "text/plain": [
              "date_recorded        2011-07-302011-07-302011-07-302011-07-302011-0...\n",
              "construction_year                                                    0\n",
              "dtype: object"
            ]
          },
          "metadata": {
            "tags": []
          },
          "execution_count": 171
        }
      ]
    },
    {
      "cell_type": "code",
      "metadata": {
        "colab": {
          "base_uri": "https://localhost:8080/",
          "height": 189
        },
        "id": "tBCjRGry4R2v",
        "outputId": "4183c23e-4be0-4688-c974-4ec6a0e60e87"
      },
      "source": [
        "# train_final([train_final['date_recorded'] == '2011-07-30']) & (train_final[train_final['construction_year']]"
      ],
      "execution_count": null,
      "outputs": [
        {
          "output_type": "error",
          "ename": "TypeError",
          "evalue": "ignored",
          "traceback": [
            "\u001b[0;31m---------------------------------------------------------------------------\u001b[0m",
            "\u001b[0;31mTypeError\u001b[0m                                 Traceback (most recent call last)",
            "\u001b[0;32m<ipython-input-177-8e950e514b3b>\u001b[0m in \u001b[0;36m<module>\u001b[0;34m()\u001b[0m\n\u001b[0;32m----> 1\u001b[0;31m \u001b[0mtrain_final\u001b[0m\u001b[0;34m(\u001b[0m\u001b[0;34m[\u001b[0m\u001b[0mtrain_final\u001b[0m\u001b[0;34m[\u001b[0m\u001b[0;34m'date_recorded'\u001b[0m\u001b[0;34m]\u001b[0m \u001b[0;34m==\u001b[0m \u001b[0;34m'2011-07-30'\u001b[0m\u001b[0;34m]\u001b[0m\u001b[0;34m)\u001b[0m \u001b[0;34m&\u001b[0m \u001b[0;34m(\u001b[0m\u001b[0mtrain_final\u001b[0m\u001b[0;34m[\u001b[0m\u001b[0mtrain_final\u001b[0m\u001b[0;34m[\u001b[0m\u001b[0;34m'construction_year'\u001b[0m\u001b[0;34m]\u001b[0m\u001b[0;34m]\u001b[0m\u001b[0;34m)\u001b[0m\u001b[0;34m\u001b[0m\u001b[0;34m\u001b[0m\u001b[0m\n\u001b[0m",
            "\u001b[0;31mTypeError\u001b[0m: 'DataFrame' object is not callable"
          ]
        }
      ]
    },
    {
      "cell_type": "code",
      "metadata": {
        "colab": {
          "base_uri": "https://localhost:8080/"
        },
        "id": "O8PsNZHq06Nh",
        "outputId": "c8d39b23-ff16-4f06-8633-6b4bba2e6163"
      },
      "source": [
        "# check the dimensions\n",
        "print(f\"Our dataset has {train_final.shape} rows and columns\")"
      ],
      "execution_count": null,
      "outputs": [
        {
          "output_type": "stream",
          "text": [
            "Our dataset has (59400, 41) rows and columns\n"
          ],
          "name": "stdout"
        }
      ]
    },
    {
      "cell_type": "code",
      "metadata": {
        "colab": {
          "base_uri": "https://localhost:8080/"
        },
        "id": "RN2Unn7h1y2s",
        "outputId": "1a5f5638-4544-434f-8b0e-d77d3a8a0ae1"
      },
      "source": [
        "# check the datatypes \n",
        "train_final.info()"
      ],
      "execution_count": null,
      "outputs": [
        {
          "output_type": "stream",
          "text": [
            "<class 'pandas.core.frame.DataFrame'>\n",
            "Int64Index: 59400 entries, 0 to 59399\n",
            "Data columns (total 41 columns):\n",
            " #   Column                 Non-Null Count  Dtype  \n",
            "---  ------                 --------------  -----  \n",
            " 0   id                     59400 non-null  int64  \n",
            " 1   amount_tsh             59400 non-null  float64\n",
            " 2   date_recorded          59400 non-null  object \n",
            " 3   funder                 55765 non-null  object \n",
            " 4   gps_height             59400 non-null  int64  \n",
            " 5   installer              55745 non-null  object \n",
            " 6   longitude              59400 non-null  float64\n",
            " 7   latitude               59400 non-null  float64\n",
            " 8   wpt_name               59400 non-null  object \n",
            " 9   num_private            59400 non-null  int64  \n",
            " 10  basin                  59400 non-null  object \n",
            " 11  subvillage             59029 non-null  object \n",
            " 12  region                 59400 non-null  object \n",
            " 13  region_code            59400 non-null  int64  \n",
            " 14  district_code          59400 non-null  int64  \n",
            " 15  lga                    59400 non-null  object \n",
            " 16  ward                   59400 non-null  object \n",
            " 17  population             59400 non-null  int64  \n",
            " 18  public_meeting         56066 non-null  object \n",
            " 19  recorded_by            59400 non-null  object \n",
            " 20  scheme_management      55523 non-null  object \n",
            " 21  scheme_name            31234 non-null  object \n",
            " 22  permit                 56344 non-null  object \n",
            " 23  construction_year      59400 non-null  int64  \n",
            " 24  extraction_type        59400 non-null  object \n",
            " 25  extraction_type_group  59400 non-null  object \n",
            " 26  extraction_type_class  59400 non-null  object \n",
            " 27  management             59400 non-null  object \n",
            " 28  management_group       59400 non-null  object \n",
            " 29  payment                59400 non-null  object \n",
            " 30  payment_type           59400 non-null  object \n",
            " 31  water_quality          59400 non-null  object \n",
            " 32  quality_group          59400 non-null  object \n",
            " 33  quantity               59400 non-null  object \n",
            " 34  quantity_group         59400 non-null  object \n",
            " 35  source                 59400 non-null  object \n",
            " 36  source_type            59400 non-null  object \n",
            " 37  source_class           59400 non-null  object \n",
            " 38  waterpoint_type        59400 non-null  object \n",
            " 39  waterpoint_type_group  59400 non-null  object \n",
            " 40  status_group           59400 non-null  object \n",
            "dtypes: float64(3), int64(7), object(31)\n",
            "memory usage: 19.0+ MB\n"
          ],
          "name": "stdout"
        }
      ]
    },
    {
      "cell_type": "code",
      "metadata": {
        "colab": {
          "base_uri": "https://localhost:8080/",
          "height": 319
        },
        "id": "cRM_spUz2X94",
        "outputId": "892ba6d5-89a5-42b9-965f-602f1f722fef"
      },
      "source": [
        "# check summary statistics\n",
        "train_final.describe()"
      ],
      "execution_count": null,
      "outputs": [
        {
          "output_type": "execute_result",
          "data": {
            "text/html": [
              "<div>\n",
              "<style scoped>\n",
              "    .dataframe tbody tr th:only-of-type {\n",
              "        vertical-align: middle;\n",
              "    }\n",
              "\n",
              "    .dataframe tbody tr th {\n",
              "        vertical-align: top;\n",
              "    }\n",
              "\n",
              "    .dataframe thead th {\n",
              "        text-align: right;\n",
              "    }\n",
              "</style>\n",
              "<table border=\"1\" class=\"dataframe\">\n",
              "  <thead>\n",
              "    <tr style=\"text-align: right;\">\n",
              "      <th></th>\n",
              "      <th>id</th>\n",
              "      <th>amount_tsh</th>\n",
              "      <th>gps_height</th>\n",
              "      <th>longitude</th>\n",
              "      <th>latitude</th>\n",
              "      <th>num_private</th>\n",
              "      <th>region_code</th>\n",
              "      <th>district_code</th>\n",
              "      <th>population</th>\n",
              "      <th>construction_year</th>\n",
              "    </tr>\n",
              "  </thead>\n",
              "  <tbody>\n",
              "    <tr>\n",
              "      <th>count</th>\n",
              "      <td>59400.000000</td>\n",
              "      <td>59400.000000</td>\n",
              "      <td>59400.000000</td>\n",
              "      <td>59400.000000</td>\n",
              "      <td>5.940000e+04</td>\n",
              "      <td>59400.000000</td>\n",
              "      <td>59400.000000</td>\n",
              "      <td>59400.000000</td>\n",
              "      <td>59400.000000</td>\n",
              "      <td>59400.000000</td>\n",
              "    </tr>\n",
              "    <tr>\n",
              "      <th>mean</th>\n",
              "      <td>37115.131768</td>\n",
              "      <td>317.650385</td>\n",
              "      <td>668.297239</td>\n",
              "      <td>34.077427</td>\n",
              "      <td>-5.706033e+00</td>\n",
              "      <td>0.474141</td>\n",
              "      <td>15.297003</td>\n",
              "      <td>5.629747</td>\n",
              "      <td>179.909983</td>\n",
              "      <td>1300.652475</td>\n",
              "    </tr>\n",
              "    <tr>\n",
              "      <th>std</th>\n",
              "      <td>21453.128371</td>\n",
              "      <td>2997.574558</td>\n",
              "      <td>693.116350</td>\n",
              "      <td>6.567432</td>\n",
              "      <td>2.946019e+00</td>\n",
              "      <td>12.236230</td>\n",
              "      <td>17.587406</td>\n",
              "      <td>9.633649</td>\n",
              "      <td>471.482176</td>\n",
              "      <td>951.620547</td>\n",
              "    </tr>\n",
              "    <tr>\n",
              "      <th>min</th>\n",
              "      <td>0.000000</td>\n",
              "      <td>0.000000</td>\n",
              "      <td>-90.000000</td>\n",
              "      <td>0.000000</td>\n",
              "      <td>-1.164944e+01</td>\n",
              "      <td>0.000000</td>\n",
              "      <td>1.000000</td>\n",
              "      <td>0.000000</td>\n",
              "      <td>0.000000</td>\n",
              "      <td>0.000000</td>\n",
              "    </tr>\n",
              "    <tr>\n",
              "      <th>25%</th>\n",
              "      <td>18519.750000</td>\n",
              "      <td>0.000000</td>\n",
              "      <td>0.000000</td>\n",
              "      <td>33.090347</td>\n",
              "      <td>-8.540621e+00</td>\n",
              "      <td>0.000000</td>\n",
              "      <td>5.000000</td>\n",
              "      <td>2.000000</td>\n",
              "      <td>0.000000</td>\n",
              "      <td>0.000000</td>\n",
              "    </tr>\n",
              "    <tr>\n",
              "      <th>50%</th>\n",
              "      <td>37061.500000</td>\n",
              "      <td>0.000000</td>\n",
              "      <td>369.000000</td>\n",
              "      <td>34.908743</td>\n",
              "      <td>-5.021597e+00</td>\n",
              "      <td>0.000000</td>\n",
              "      <td>12.000000</td>\n",
              "      <td>3.000000</td>\n",
              "      <td>25.000000</td>\n",
              "      <td>1986.000000</td>\n",
              "    </tr>\n",
              "    <tr>\n",
              "      <th>75%</th>\n",
              "      <td>55656.500000</td>\n",
              "      <td>20.000000</td>\n",
              "      <td>1319.250000</td>\n",
              "      <td>37.178387</td>\n",
              "      <td>-3.326156e+00</td>\n",
              "      <td>0.000000</td>\n",
              "      <td>17.000000</td>\n",
              "      <td>5.000000</td>\n",
              "      <td>215.000000</td>\n",
              "      <td>2004.000000</td>\n",
              "    </tr>\n",
              "    <tr>\n",
              "      <th>max</th>\n",
              "      <td>74247.000000</td>\n",
              "      <td>350000.000000</td>\n",
              "      <td>2770.000000</td>\n",
              "      <td>40.345193</td>\n",
              "      <td>-2.000000e-08</td>\n",
              "      <td>1776.000000</td>\n",
              "      <td>99.000000</td>\n",
              "      <td>80.000000</td>\n",
              "      <td>30500.000000</td>\n",
              "      <td>2013.000000</td>\n",
              "    </tr>\n",
              "  </tbody>\n",
              "</table>\n",
              "</div>"
            ],
            "text/plain": [
              "                 id     amount_tsh  ...    population  construction_year\n",
              "count  59400.000000   59400.000000  ...  59400.000000       59400.000000\n",
              "mean   37115.131768     317.650385  ...    179.909983        1300.652475\n",
              "std    21453.128371    2997.574558  ...    471.482176         951.620547\n",
              "min        0.000000       0.000000  ...      0.000000           0.000000\n",
              "25%    18519.750000       0.000000  ...      0.000000           0.000000\n",
              "50%    37061.500000       0.000000  ...     25.000000        1986.000000\n",
              "75%    55656.500000      20.000000  ...    215.000000        2004.000000\n",
              "max    74247.000000  350000.000000  ...  30500.000000        2013.000000\n",
              "\n",
              "[8 rows x 10 columns]"
            ]
          },
          "metadata": {
            "tags": []
          },
          "execution_count": 148
        }
      ]
    },
    {
      "cell_type": "code",
      "metadata": {
        "colab": {
          "base_uri": "https://localhost:8080/"
        },
        "id": "7_1L9rPm25tJ",
        "outputId": "b5491aa0-6946-4cad-9714-11d20cab6dc0"
      },
      "source": [
        "# check for unique values\n",
        "categorical_variables = [ 'funder', \n",
        "       'installer',  'wpt_name', \n",
        "       'basin', 'subvillage', 'region',  'lga',\n",
        "       'ward',  'public_meeting', 'recorded_by',\n",
        "       'scheme_management', 'scheme_name', 'permit', \n",
        "       'extraction_type', 'extraction_type_group', 'extraction_type_class',\n",
        "       'management', 'management_group', 'payment', 'payment_type',\n",
        "       'water_quality', 'quality_group', 'quantity', 'quantity_group',\n",
        "       'source', 'source_type', 'source_class', 'waterpoint_type',\n",
        "       'waterpoint_type_group', 'status_group']\n",
        "for column in categorical_variables:\n",
        "  print(column)\n",
        "  print(train_final[column].nunique())\n",
        "  print(train_final[column].unique())\n",
        "  print('\\n')"
      ],
      "execution_count": null,
      "outputs": [
        {
          "output_type": "stream",
          "text": [
            "funder\n",
            "1897\n",
            "['Roman' 'Grumeti' 'Lottery Club' ... 'Dina' 'Brown' 'Samlo']\n",
            "\n",
            "\n",
            "installer\n",
            "2145\n",
            "['Roman' 'GRUMETI' 'World vision' ... 'Dina' 'brown' 'SELEPTA']\n",
            "\n",
            "\n",
            "wpt_name\n",
            "37400\n",
            "['none' 'Zahanati' 'Kwa Mahundi' ... 'Kwa Yahona Kuvala' 'Mshoro'\n",
            " 'Kwa Mzee Lugawa']\n",
            "\n",
            "\n",
            "basin\n",
            "9\n",
            "['Lake Nyasa' 'Lake Victoria' 'Pangani' 'Ruvuma / Southern Coast'\n",
            " 'Internal' 'Lake Tanganyika' 'Wami / Ruvu' 'Rufiji' 'Lake Rukwa']\n",
            "\n",
            "\n",
            "subvillage\n",
            "19287\n",
            "['Mnyusi B' 'Nyamara' 'Majengo' ... 'Itete B' 'Maore Kati' 'Kikatanyemba']\n",
            "\n",
            "\n",
            "region\n",
            "21\n",
            "['Iringa' 'Mara' 'Manyara' 'Mtwara' 'Kagera' 'Tanga' 'Shinyanga' 'Tabora'\n",
            " 'Pwani' 'Ruvuma' 'Kilimanjaro' 'Rukwa' 'Mwanza' 'Kigoma' 'Lindi' 'Dodoma'\n",
            " 'Arusha' 'Mbeya' 'Singida' 'Morogoro' 'Dar es Salaam']\n",
            "\n",
            "\n",
            "lga\n",
            "125\n",
            "['Ludewa' 'Serengeti' 'Simanjiro' 'Nanyumbu' 'Karagwe' 'Mkinga'\n",
            " 'Shinyanga Rural' 'Kahama' 'Tabora Urban' 'Mkuranga' 'Namtumbo' 'Maswa'\n",
            " 'Siha' 'Meatu' 'Sumbawanga Rural' 'Njombe' 'Ukerewe' 'Bariadi' 'Same'\n",
            " 'Kigoma Rural' 'Moshi Rural' 'Lindi Rural' 'Rombo' 'Chamwino' 'Bagamoyo'\n",
            " 'Mafia' 'Arusha Rural' 'Kyela' 'Kondoa' 'Kilolo' 'Kibondo' 'Makete'\n",
            " 'Singida Rural' 'Masasi' 'Rungwe' 'Moshi Urban' 'Geita' 'Mbulu'\n",
            " 'Bukoba Rural' 'Muheza' 'Lushoto' 'Meru' 'Iramba' 'Kilombero' 'Mbarali'\n",
            " 'Kasulu' 'Bukoba Urban' 'Korogwe' 'Bukombe' 'Morogoro Rural' 'Kishapu'\n",
            " 'Musoma Rural' 'Sengerema' 'Iringa Rural' 'Muleba' 'Dodoma Urban'\n",
            " 'Ruangwa' 'Hanang' 'Misenyi' 'Missungwi' 'Songea Rural' 'Tanga' 'Tunduru'\n",
            " 'Hai' 'Mwanga' 'Chato' 'Biharamulo' 'Ileje' 'Mpwapwa' 'Mvomero' 'Bunda'\n",
            " 'Kiteto' 'Longido' 'Urambo' 'Mbozi' 'Sikonge' 'Ilala' 'Tarime' 'Temeke'\n",
            " 'Mbeya Rural' 'Magu' 'Manyoni' 'Igunga' 'Kilosa' 'Babati' 'Chunya'\n",
            " 'Mufindi' 'Mtwara Rural' 'Ngara' 'Karatu' 'Mpanda' 'Kibaha'\n",
            " 'Singida Urban' 'Newala' 'Nzega' 'Nkasi' 'Bahi' 'Mbinga' 'Ulanga'\n",
            " 'Sumbawanga Urban' 'Morogoro Urban' 'Tandahimba' 'Kisarawe'\n",
            " 'Mtwara Urban' 'Kilwa' 'Liwale' 'Kongwa' 'Uyui' 'Rufiji' 'Kwimba'\n",
            " 'Monduli' 'Shinyanga Urban' 'Ngorongoro' 'Handeni' 'Rorya' 'Pangani'\n",
            " 'Lindi Urban' 'Nachingwea' 'Kinondoni' 'Kigoma Urban' 'Ilemela' 'Kilindi'\n",
            " 'Arusha Urban' 'Songea Urban' 'Nyamagana']\n",
            "\n",
            "\n",
            "ward\n",
            "2092\n",
            "['Mundindi' 'Natta' 'Ngorika' ... 'Chinugulu' 'Nyamtinga' 'Kinungu']\n",
            "\n",
            "\n",
            "public_meeting\n",
            "2\n",
            "[True nan False]\n",
            "\n",
            "\n",
            "recorded_by\n",
            "1\n",
            "['GeoData Consultants Ltd']\n",
            "\n",
            "\n",
            "scheme_management\n",
            "12\n",
            "['VWC' 'Other' nan 'Private operator' 'WUG' 'Water Board' 'WUA'\n",
            " 'Water authority' 'Company' 'Parastatal' 'Trust' 'SWC' 'None']\n",
            "\n",
            "\n",
            "scheme_name\n",
            "2696\n",
            "['Roman' nan 'Nyumba ya mungu pipe scheme' ... 'BL Nsherehehe'\n",
            " 'Magati  gravity spri' 'Mtawanya']\n",
            "\n",
            "\n",
            "permit\n",
            "2\n",
            "[False True nan]\n",
            "\n",
            "\n",
            "extraction_type\n",
            "18\n",
            "['gravity' 'submersible' 'swn 80' 'nira/tanira' 'india mark ii' 'other'\n",
            " 'ksb' 'mono' 'windmill' 'afridev' 'other - rope pump' 'india mark iii'\n",
            " 'other - swn 81' 'other - play pump' 'cemo' 'climax' 'walimi'\n",
            " 'other - mkulima/shinyanga']\n",
            "\n",
            "\n",
            "extraction_type_group\n",
            "13\n",
            "['gravity' 'submersible' 'swn 80' 'nira/tanira' 'india mark ii' 'other'\n",
            " 'mono' 'wind-powered' 'afridev' 'rope pump' 'india mark iii'\n",
            " 'other handpump' 'other motorpump']\n",
            "\n",
            "\n",
            "extraction_type_class\n",
            "7\n",
            "['gravity' 'submersible' 'handpump' 'other' 'motorpump' 'wind-powered'\n",
            " 'rope pump']\n",
            "\n",
            "\n",
            "management\n",
            "12\n",
            "['vwc' 'wug' 'other' 'private operator' 'water board' 'wua' 'company'\n",
            " 'water authority' 'parastatal' 'unknown' 'other - school' 'trust']\n",
            "\n",
            "\n",
            "management_group\n",
            "5\n",
            "['user-group' 'other' 'commercial' 'parastatal' 'unknown']\n",
            "\n",
            "\n",
            "payment\n",
            "7\n",
            "['pay annually' 'never pay' 'pay per bucket' 'unknown'\n",
            " 'pay when scheme fails' 'other' 'pay monthly']\n",
            "\n",
            "\n",
            "payment_type\n",
            "7\n",
            "['annually' 'never pay' 'per bucket' 'unknown' 'on failure' 'other'\n",
            " 'monthly']\n",
            "\n",
            "\n",
            "water_quality\n",
            "8\n",
            "['soft' 'salty' 'milky' 'unknown' 'fluoride' 'coloured' 'salty abandoned'\n",
            " 'fluoride abandoned']\n",
            "\n",
            "\n",
            "quality_group\n",
            "6\n",
            "['good' 'salty' 'milky' 'unknown' 'fluoride' 'colored']\n",
            "\n",
            "\n",
            "quantity\n",
            "5\n",
            "['enough' 'insufficient' 'dry' 'seasonal' 'unknown']\n",
            "\n",
            "\n",
            "quantity_group\n",
            "5\n",
            "['enough' 'insufficient' 'dry' 'seasonal' 'unknown']\n",
            "\n",
            "\n",
            "source\n",
            "10\n",
            "['spring' 'rainwater harvesting' 'dam' 'machine dbh' 'other'\n",
            " 'shallow well' 'river' 'hand dtw' 'lake' 'unknown']\n",
            "\n",
            "\n",
            "source_type\n",
            "7\n",
            "['spring' 'rainwater harvesting' 'dam' 'borehole' 'other' 'shallow well'\n",
            " 'river/lake']\n",
            "\n",
            "\n",
            "source_class\n",
            "3\n",
            "['groundwater' 'surface' 'unknown']\n",
            "\n",
            "\n",
            "waterpoint_type\n",
            "7\n",
            "['communal standpipe' 'communal standpipe multiple' 'hand pump' 'other'\n",
            " 'improved spring' 'cattle trough' 'dam']\n",
            "\n",
            "\n",
            "waterpoint_type_group\n",
            "6\n",
            "['communal standpipe' 'hand pump' 'other' 'improved spring'\n",
            " 'cattle trough' 'dam']\n",
            "\n",
            "\n",
            "status_group\n",
            "3\n",
            "['functional' 'non functional' 'functional needs repair']\n",
            "\n",
            "\n"
          ],
          "name": "stdout"
        }
      ]
    },
    {
      "cell_type": "markdown",
      "metadata": {
        "id": "34tvfpHo4xtg"
      },
      "source": [
        "# **5.0 Tidying the Dataset**"
      ]
    },
    {
      "cell_type": "markdown",
      "metadata": {
        "id": "G4qxUiQmDoBS"
      },
      "source": [
        "## a) Validity"
      ]
    },
    {
      "cell_type": "code",
      "metadata": {
        "id": "BewkBejs4ezl"
      },
      "source": [
        "# drop scheme_name column\n",
        "train_final.drop([\"scheme_name\"], axis=1, inplace=True)"
      ],
      "execution_count": null,
      "outputs": []
    },
    {
      "cell_type": "code",
      "metadata": {
        "colab": {
          "base_uri": "https://localhost:8080/",
          "height": 69
        },
        "id": "F69N85K4-CSj",
        "outputId": "1e80c79c-f78e-4895-a060-ffcf7e22d001"
      },
      "source": [
        "# confirming the column has been dropped\n",
        "train_final.head(0)"
      ],
      "execution_count": null,
      "outputs": [
        {
          "output_type": "execute_result",
          "data": {
            "text/html": [
              "<div>\n",
              "<style scoped>\n",
              "    .dataframe tbody tr th:only-of-type {\n",
              "        vertical-align: middle;\n",
              "    }\n",
              "\n",
              "    .dataframe tbody tr th {\n",
              "        vertical-align: top;\n",
              "    }\n",
              "\n",
              "    .dataframe thead th {\n",
              "        text-align: right;\n",
              "    }\n",
              "</style>\n",
              "<table border=\"1\" class=\"dataframe\">\n",
              "  <thead>\n",
              "    <tr style=\"text-align: right;\">\n",
              "      <th></th>\n",
              "      <th>id</th>\n",
              "      <th>amount_tsh</th>\n",
              "      <th>date_recorded</th>\n",
              "      <th>funder</th>\n",
              "      <th>gps_height</th>\n",
              "      <th>installer</th>\n",
              "      <th>longitude</th>\n",
              "      <th>latitude</th>\n",
              "      <th>wpt_name</th>\n",
              "      <th>num_private</th>\n",
              "      <th>basin</th>\n",
              "      <th>subvillage</th>\n",
              "      <th>region</th>\n",
              "      <th>region_code</th>\n",
              "      <th>district_code</th>\n",
              "      <th>lga</th>\n",
              "      <th>ward</th>\n",
              "      <th>population</th>\n",
              "      <th>public_meeting</th>\n",
              "      <th>recorded_by</th>\n",
              "      <th>scheme_management</th>\n",
              "      <th>permit</th>\n",
              "      <th>construction_year</th>\n",
              "      <th>extraction_type</th>\n",
              "      <th>extraction_type_group</th>\n",
              "      <th>extraction_type_class</th>\n",
              "      <th>management</th>\n",
              "      <th>management_group</th>\n",
              "      <th>payment</th>\n",
              "      <th>payment_type</th>\n",
              "      <th>water_quality</th>\n",
              "      <th>quality_group</th>\n",
              "      <th>quantity</th>\n",
              "      <th>quantity_group</th>\n",
              "      <th>source</th>\n",
              "      <th>source_type</th>\n",
              "      <th>source_class</th>\n",
              "      <th>waterpoint_type</th>\n",
              "      <th>waterpoint_type_group</th>\n",
              "      <th>status_group</th>\n",
              "    </tr>\n",
              "  </thead>\n",
              "  <tbody>\n",
              "  </tbody>\n",
              "</table>\n",
              "</div>"
            ],
            "text/plain": [
              "Empty DataFrame\n",
              "Columns: [id, amount_tsh, date_recorded, funder, gps_height, installer, longitude, latitude, wpt_name, num_private, basin, subvillage, region, region_code, district_code, lga, ward, population, public_meeting, recorded_by, scheme_management, permit, construction_year, extraction_type, extraction_type_group, extraction_type_class, management, management_group, payment, payment_type, water_quality, quality_group, quantity, quantity_group, source, source_type, source_class, waterpoint_type, waterpoint_type_group, status_group]\n",
              "Index: []"
            ]
          },
          "metadata": {
            "tags": []
          },
          "execution_count": 151
        }
      ]
    },
    {
      "cell_type": "markdown",
      "metadata": {
        "id": "wOdN1qEi9NzA"
      },
      "source": [
        "## **b) Completeness**"
      ]
    },
    {
      "cell_type": "code",
      "metadata": {
        "colab": {
          "base_uri": "https://localhost:8080/"
        },
        "id": "XT_X6cC2kBut",
        "outputId": "a8ebc670-0371-4240-aa00-38f62e66aa2c"
      },
      "source": [
        "# check for percentage of null values in each column\n",
        "(train_final.isna().sum()/train_final.shape[0])*100"
      ],
      "execution_count": null,
      "outputs": [
        {
          "output_type": "execute_result",
          "data": {
            "text/plain": [
              "id                       0.000000\n",
              "amount_tsh               0.000000\n",
              "date_recorded            0.000000\n",
              "funder                   6.119529\n",
              "gps_height               0.000000\n",
              "installer                6.153199\n",
              "longitude                0.000000\n",
              "latitude                 0.000000\n",
              "wpt_name                 0.000000\n",
              "num_private              0.000000\n",
              "basin                    0.000000\n",
              "subvillage               0.624579\n",
              "region                   0.000000\n",
              "region_code              0.000000\n",
              "district_code            0.000000\n",
              "lga                      0.000000\n",
              "ward                     0.000000\n",
              "population               0.000000\n",
              "public_meeting           5.612795\n",
              "recorded_by              0.000000\n",
              "scheme_management        6.526936\n",
              "permit                   5.144781\n",
              "construction_year        0.000000\n",
              "extraction_type          0.000000\n",
              "extraction_type_group    0.000000\n",
              "extraction_type_class    0.000000\n",
              "management               0.000000\n",
              "management_group         0.000000\n",
              "payment                  0.000000\n",
              "payment_type             0.000000\n",
              "water_quality            0.000000\n",
              "quality_group            0.000000\n",
              "quantity                 0.000000\n",
              "quantity_group           0.000000\n",
              "source                   0.000000\n",
              "source_type              0.000000\n",
              "source_class             0.000000\n",
              "waterpoint_type          0.000000\n",
              "waterpoint_type_group    0.000000\n",
              "status_group             0.000000\n",
              "dtype: float64"
            ]
          },
          "metadata": {
            "tags": []
          },
          "execution_count": 152
        }
      ]
    },
    {
      "cell_type": "code",
      "metadata": {
        "colab": {
          "base_uri": "https://localhost:8080/",
          "height": 343
        },
        "id": "wZezv6pr_eev",
        "outputId": "17904aac-8e1a-4c73-a948-bfc2301d3e53"
      },
      "source": [
        "# visualizing our null values\n",
        "train_final.isna().sum().plot(kind=\"bar\",figsize=(20,6))\n",
        "plt.show()"
      ],
      "execution_count": null,
      "outputs": [
        {
          "output_type": "display_data",
          "data": {
            "image/png": "[encoded data removed]",
            "text/plain": [
              "<Figure size 1440x432 with 1 Axes>"
            ]
          },
          "metadata": {
            "tags": [],
            "needs_background": "light"
          }
        }
      ]
    },
    {
      "cell_type": "code",
      "metadata": {
        "colab": {
          "base_uri": "https://localhost:8080/"
        },
        "id": "TwM3EplR-YeR",
        "outputId": "31873104-8e2f-486f-a8bc-494e2422d6ab"
      },
      "source": [
        "# drop rows with null values\n",
        "train_final = train_final.dropna()\n",
        "# confirming that the missing values have been dropped\n",
        "train_final.isna().sum().sum()"
      ],
      "execution_count": null,
      "outputs": [
        {
          "output_type": "execute_result",
          "data": {
            "text/plain": [
              "0"
            ]
          },
          "metadata": {
            "tags": []
          },
          "execution_count": 154
        }
      ]
    },
    {
      "cell_type": "markdown",
      "metadata": {
        "id": "UcHS7lbJAeri"
      },
      "source": [
        "## **c) Consistency**"
      ]
    },
    {
      "cell_type": "code",
      "metadata": {
        "colab": {
          "base_uri": "https://localhost:8080/"
        },
        "id": "g9w-Wzs9Ai2D",
        "outputId": "f8e71ceb-aaad-4b6f-eb71-334756d13ce0"
      },
      "source": [
        "# checking if our dataset has any duplicated values\n",
        "train_final.duplicated().value_counts()"
      ],
      "execution_count": null,
      "outputs": [
        {
          "output_type": "execute_result",
          "data": {
            "text/plain": [
              "False    48288\n",
              "dtype: int64"
            ]
          },
          "metadata": {
            "tags": []
          },
          "execution_count": 155
        }
      ]
    },
    {
      "cell_type": "markdown",
      "metadata": {
        "id": "FXeDX1LaBB-Z"
      },
      "source": [
        "There were no duplicates in our dataset"
      ]
    },
    {
      "cell_type": "markdown",
      "metadata": {
        "id": "dEPgv__jBdYO"
      },
      "source": [
        "## **d) Uniformity**"
      ]
    },
    {
      "cell_type": "code",
      "metadata": {
        "colab": {
          "base_uri": "https://localhost:8080/"
        },
        "id": "7N3D7ODDBN4-",
        "outputId": "69d398f0-9006-4ad0-9bbd-9dcdf18b875a"
      },
      "source": [
        "# checking our columns for uniformity\n",
        "train_final.columns"
      ],
      "execution_count": null,
      "outputs": [
        {
          "output_type": "execute_result",
          "data": {
            "text/plain": [
              "Index(['id', 'amount_tsh', 'date_recorded', 'funder', 'gps_height',\n",
              "       'installer', 'longitude', 'latitude', 'wpt_name', 'num_private',\n",
              "       'basin', 'subvillage', 'region', 'region_code', 'district_code', 'lga',\n",
              "       'ward', 'population', 'public_meeting', 'recorded_by',\n",
              "       'scheme_management', 'permit', 'construction_year', 'extraction_type',\n",
              "       'extraction_type_group', 'extraction_type_class', 'management',\n",
              "       'management_group', 'payment', 'payment_type', 'water_quality',\n",
              "       'quality_group', 'quantity', 'quantity_group', 'source', 'source_type',\n",
              "       'source_class', 'waterpoint_type', 'waterpoint_type_group',\n",
              "       'status_group'],\n",
              "      dtype='object')"
            ]
          },
          "metadata": {
            "tags": []
          },
          "execution_count": 156
        }
      ]
    },
    {
      "cell_type": "code",
      "metadata": {
        "colab": {
          "base_uri": "https://localhost:8080/"
        },
        "id": "LXT3sGzVCA2u",
        "outputId": "0979cf69-bf7f-4221-f1cf-5eaee862409d"
      },
      "source": [
        "# changing the column names \n",
        "train_final = train_final.rename(columns = {\"amount_tsh\":\"amount_water_available\",\"num_private\":\"no_privatewells_aquifer\",\"lga\":\"local_gvt_auth\",\"gps_height\":\"altitude_of_well\"})\n",
        "# confirming that the columns names have changed\n",
        "train_final.columns"
      ],
      "execution_count": null,
      "outputs": [
        {
          "output_type": "execute_result",
          "data": {
            "text/plain": [
              "Index(['id', 'amount_water_available', 'date_recorded', 'funder',\n",
              "       'altitude_of_well', 'installer', 'longitude', 'latitude', 'wpt_name',\n",
              "       'no_privatewells_aquifer', 'basin', 'subvillage', 'region',\n",
              "       'region_code', 'district_code', 'local_gvt_auth', 'ward', 'population',\n",
              "       'public_meeting', 'recorded_by', 'scheme_management', 'permit',\n",
              "       'construction_year', 'extraction_type', 'extraction_type_group',\n",
              "       'extraction_type_class', 'management', 'management_group', 'payment',\n",
              "       'payment_type', 'water_quality', 'quality_group', 'quantity',\n",
              "       'quantity_group', 'source', 'source_type', 'source_class',\n",
              "       'waterpoint_type', 'waterpoint_type_group', 'status_group'],\n",
              "      dtype='object')"
            ]
          },
          "metadata": {
            "tags": []
          },
          "execution_count": 157
        }
      ]
    },
    {
      "cell_type": "code",
      "metadata": {
        "id": "IUXKKYI3M0gF"
      },
      "source": [
        "# convert date from object to date time datatype\n",
        "train_final[['date_recorded','construction_year']] = train_final[['date_recorded','construction_year']].apply(pd.to_datetime)"
      ],
      "execution_count": null,
      "outputs": []
    },
    {
      "cell_type": "code",
      "metadata": {
        "colab": {
          "base_uri": "https://localhost:8080/"
        },
        "id": "Ts2fE8YFNaGZ",
        "outputId": "1598a748-54e4-458f-e5ee-655c7fc674ac"
      },
      "source": [
        "# confirming dtypes has been changed\n",
        "train_final[['date_recorded','construction_year']].dtypes"
      ],
      "execution_count": null,
      "outputs": [
        {
          "output_type": "execute_result",
          "data": {
            "text/plain": [
              "date_recorded        datetime64[ns]\n",
              "construction_year    datetime64[ns]\n",
              "dtype: object"
            ]
          },
          "metadata": {
            "tags": []
          },
          "execution_count": 159
        }
      ]
    },
    {
      "cell_type": "code",
      "metadata": {
        "id": "xC6Rm8CoOVQQ"
      },
      "source": [
        "# convert category columns to category datatype\n",
        "for col in ['funder', 'installer',  'wpt_name', 'basin', 'subvillage', 'region',  'local_gvt_auth', 'ward',\n",
        "            'public_meeting', 'recorded_by', 'scheme_management', 'permit', 'extraction_type', 'extraction_type_group',\n",
        "            'extraction_type_class', 'management', 'management_group', 'payment', 'payment_type', 'water_quality',\n",
        "            'quality_group', 'quantity', 'quantity_group','source', 'source_type', 'source_class', 'waterpoint_type',\n",
        "            'waterpoint_type_group', 'status_group']:\n",
        "\n",
        "    train_final[col] = train_final[col].astype('category')"
      ],
      "execution_count": null,
      "outputs": []
    },
    {
      "cell_type": "code",
      "metadata": {
        "colab": {
          "base_uri": "https://localhost:8080/"
        },
        "id": "62xuG6OlP7uX",
        "outputId": "e97a1ec7-3a78-40c5-8849-9ea20f7e5bba"
      },
      "source": [
        "# confirming dtypes has been changed\n",
        "train_final[['funder', 'installer',  'wpt_name', 'basin', 'subvillage', 'region',  'local_gvt_auth', 'ward',\n",
        "            'public_meeting', 'recorded_by', 'scheme_management', 'permit', 'extraction_type', 'extraction_type_group',\n",
        "            'extraction_type_class', 'management', 'management_group', 'payment', 'payment_type', 'water_quality',\n",
        "            'quality_group', 'quantity', 'quantity_group','source', 'source_type', 'source_class', 'waterpoint_type',\n",
        "            'waterpoint_type_group', 'status_group']].dtypes"
      ],
      "execution_count": null,
      "outputs": [
        {
          "output_type": "execute_result",
          "data": {
            "text/plain": [
              "funder                   category\n",
              "installer                category\n",
              "wpt_name                 category\n",
              "basin                    category\n",
              "subvillage               category\n",
              "region                   category\n",
              "local_gvt_auth           category\n",
              "ward                     category\n",
              "public_meeting           category\n",
              "recorded_by              category\n",
              "scheme_management        category\n",
              "permit                   category\n",
              "extraction_type          category\n",
              "extraction_type_group    category\n",
              "extraction_type_class    category\n",
              "management               category\n",
              "management_group         category\n",
              "payment                  category\n",
              "payment_type             category\n",
              "water_quality            category\n",
              "quality_group            category\n",
              "quantity                 category\n",
              "quantity_group           category\n",
              "source                   category\n",
              "source_type              category\n",
              "source_class             category\n",
              "waterpoint_type          category\n",
              "waterpoint_type_group    category\n",
              "status_group             category\n",
              "dtype: object"
            ]
          },
          "metadata": {
            "tags": []
          },
          "execution_count": 161
        }
      ]
    },
    {
      "cell_type": "markdown",
      "metadata": {
        "id": "jr5hlUMrFDDa"
      },
      "source": [
        "## e) Accuracy"
      ]
    },
    {
      "cell_type": "code",
      "metadata": {
        "colab": {
          "base_uri": "https://localhost:8080/"
        },
        "id": "sMsm7zfhHAUQ",
        "outputId": "451ad9f8-5caf-48fb-de75-9887eb88140b"
      },
      "source": [
        "# checking if the amount of water availabe at a waterpoint is less than 0\n",
        "(train_final[['amount_water_available','population','district_code','region_code','no_privatewells_aquifer']] < 0).sum()"
      ],
      "execution_count": null,
      "outputs": [
        {
          "output_type": "execute_result",
          "data": {
            "text/plain": [
              "amount_water_available     0\n",
              "population                 0\n",
              "district_code              0\n",
              "region_code                0\n",
              "no_privatewells_aquifer    0\n",
              "dtype: int64"
            ]
          },
          "metadata": {
            "tags": []
          },
          "execution_count": 162
        }
      ]
    },
    {
      "cell_type": "markdown",
      "metadata": {
        "id": "k0hIMcDxIsgy"
      },
      "source": [
        "There were no values that were less than 0 "
      ]
    },
    {
      "cell_type": "markdown",
      "metadata": {
        "id": "kxkUcrXvI5vR"
      },
      "source": [
        "## e) Check for outliers"
      ]
    },
    {
      "cell_type": "code",
      "metadata": {
        "colab": {
          "base_uri": "https://localhost:8080/",
          "height": 432
        },
        "id": "p647BiEbHm2-",
        "outputId": "8d268255-0090-4b45-dddc-78171537c4f0"
      },
      "source": [
        "# checking for outliers in numerical columns\n",
        "numerical_cols = train_final[['amount_water_available','population']]\n",
        "\n",
        "fig, axes = plt.subplots(nrows=1,ncols=2,figsize=(10,6))\n",
        "plt.suptitle('Checking for outliers using boxplots',fontsize=20,weight='bold',color='midnightblue')\n",
        "for ax, data, column in zip(axes.flatten(),train_final,numerical_cols):\n",
        "  sns.boxplot(train_final[column],ax=ax,palette='Set1')\n",
        "  ax.set_facecolor('thistle')"
      ],
      "execution_count": null,
      "outputs": [
        {
          "output_type": "display_data",
          "data": {
            "image/png": "[encoded data removed]",
            "text/plain": [
              "<Figure size 720x432 with 2 Axes>"
            ]
          },
          "metadata": {
            "tags": [],
            "needs_background": "light"
          }
        }
      ]
    },
    {
      "cell_type": "markdown",
      "metadata": {
        "id": "bnuRKfClUxR2"
      },
      "source": [
        "We will not drop the outliers"
      ]
    }
  ]
}